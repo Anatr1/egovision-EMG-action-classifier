{
 "cells": [
  {
   "cell_type": "code",
   "execution_count": 1,
   "metadata": {},
   "outputs": [],
   "source": [
    "import torch\n",
    "import pandas as pd\n",
    "import numpy as np\n",
    "from torch.utils.data import DataLoader\n",
    "\n",
    "from EMG_dataloader import EMG_dataset\n",
    "from EMG_LSTM import EMG_LSTM"
   ]
  },
  {
   "cell_type": "code",
   "execution_count": 2,
   "metadata": {},
   "outputs": [],
   "source": [
    "CFG = {\n",
    "    'data': {\n",
    "        'directory': 'EMG_preprocessed',\n",
    "        'train': 'train_EMG_preprocess.pkl',\n",
    "        'test': 'test_EMG_preprocess.pkl',\n",
    "    },\n",
    "    \n",
    "    'model': {\n",
    "        'directory': ''\n",
    "    },\n",
    "\n",
    "    'args': {\n",
    "        'classes': 20\n",
    "    }\n",
    "}"
   ]
  },
  {
   "cell_type": "code",
   "execution_count": 3,
   "metadata": {},
   "outputs": [],
   "source": [
    "train_data = EMG_dataset(CFG['data']['directory'], CFG['data']['train'])\n",
    "test_data = EMG_dataset(CFG['data']['directory'], CFG['data']['test'])\n",
    "\n",
    "train_loader = DataLoader(train_data, batch_size=32, shuffle=True)\n",
    "test_loader = DataLoader(train_data, batch_size=32, shuffle=True)"
   ]
  },
  {
   "cell_type": "code",
   "execution_count": 5,
   "metadata": {},
   "outputs": [
    {
     "data": {
      "text/plain": [
       "EMG_LSTM(\n",
       "  (lstm1): LSTM(16, 5)\n",
       "  (lstm2): LSTM(5, 1)\n",
       "  (dropout): Dropout(p=0.2, inplace=False)\n",
       "  (dense): Linear(in_features=50, out_features=20, bias=True)\n",
       ")"
      ]
     },
     "execution_count": 5,
     "metadata": {},
     "output_type": "execute_result"
    }
   ],
   "source": [
    "device = torch.device('cuda' if torch.cuda.is_available() else 'cpu')\n",
    "\n",
    "model = EMG_LSTM(CFG['args']['classes'])\n",
    "model.to(device)"
   ]
  },
  {
   "cell_type": "code",
   "execution_count": null,
   "metadata": {},
   "outputs": [],
   "source": []
  }
 ],
 "metadata": {
  "kernelspec": {
   "display_name": "torch_env",
   "language": "python",
   "name": "python3"
  },
  "language_info": {
   "codemirror_mode": {
    "name": "ipython",
    "version": 3
   },
   "file_extension": ".py",
   "mimetype": "text/x-python",
   "name": "python",
   "nbconvert_exporter": "python",
   "pygments_lexer": "ipython3",
   "version": "3.11.3"
  },
  "orig_nbformat": 4
 },
 "nbformat": 4,
 "nbformat_minor": 2
}
